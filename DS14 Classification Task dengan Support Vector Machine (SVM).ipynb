{
 "cells": [
  {
   "cell_type": "markdown",
   "metadata": {},
   "source": [
    "Support Vector Machine (SVM) untuk mencari boundary decision yang dapat memisahkan antar kelas dengan baik"
   ]
  },
  {
   "cell_type": "markdown",
   "metadata": {},
   "source": [
    "Referensi: https://www.svm-tutorial.com/"
   ]
  },
  {
   "cell_type": "markdown",
   "metadata": {},
   "source": [
    "## Konsep Dasar "
   ]
  },
  {
   "cell_type": "markdown",
   "metadata": {},
   "source": [
    "Sebuah kasus klasifikasi dimana terdapat dua buah class,class hitam dan putih.pada kasus ini juga terdapat dua buah features yaitu X1 dan X2.kita diminta untuk menarik suatu garis lurus atau garis linear yang dapat memisahkan kedua class tersebut.\n",
    "\n",
    "##### *Dalam classification task pemisah atau pembatas antar kelas sering dikenal dengan istilah decision boundary*\n",
    "\n",
    "Kita dihadapkan pada tiga pilihan garis linear yaitu H1(warna hijau),H2(warna biru),H3(warna merah).\n",
    "\n",
    "Garis H1 tidak bisa digunakan sebagai garis pemisah antar dua class yang kita miliki.tersisa dua garis yang dapat memisahkan kedua kelas tersebut dengan sempurna.H3 adalah garis yang paling baik dalam memisahkan kedua class.karena H3 memiliki margin yang lebih besar bila dibandingkan dengan H2."
   ]
  },
  {
   "cell_type": "markdown",
   "metadata": {},
   "source": [
    "## Terminologi Dasar"
   ]
  },
  {
   "cell_type": "markdown",
   "metadata": {},
   "source": [
    "### Decision Boundary (Hyperplane)"
   ]
  },
  {
   "cell_type": "markdown",
   "metadata": {},
   "source": [
    "![title](img1.png)"
   ]
  },
  {
   "cell_type": "markdown",
   "metadata": {},
   "source": [
    "Terminologi pertama yang akan kita bahas adalah Hyperplane,Hyperplane merupakan terminologi yang umum digunakan dalam SVM untuk menrepresentasikan decision boundary\n",
    "\n",
    "Kita akan menggunakan kasus yang tadi telah kita pelajari.karena kasus tadi kita dihadapkan dengan dua features,maka kita memiliki plotting dua dimensi.decision boundary yang kita peroleh berupa suatu garis (pada kasus tersebut berupa garis lurus/linear)\n",
    "\n",
    "Tetapi ketika kita hanya memiliki:\n",
    "* Satu features maka decision boundary atau pemisah antar kelasnya berupa titik atau nilai threshold \n",
    "* Tiga features maka decision boundarynya berupa sebuah bidang data \n",
    "* Empat atau lebih features maka decision boundary berupa bidang multi dimensi / Hyperplane\n",
    "\n",
    "Pada SVM untuk menyederhanakan istilah maka setiap decission boundary yang dihasilkan umumnya akan disebut Hyperplane\n",
    "\n",
    "-Bagaimana sih SVM menentukan decision boundary yang lebih baik?Untuk mengerti lebih dalam,ayuk kita check dibawah ini-"
   ]
  },
  {
   "cell_type": "markdown",
   "metadata": {},
   "source": [
    "### Maximum Margin"
   ]
  },
  {
   "cell_type": "markdown",
   "metadata": {},
   "source": [
    "![title](img2.png)"
   ]
  },
  {
   "cell_type": "markdown",
   "metadata": {},
   "source": [
    "Margin ditentukan berdasarkan jarak terdekat antara decision boundary dengan anggota dari kelas yang ingin dipisahkan.\n",
    "\n",
    "Kasus tersebut terdapat terdapat dua buah class yaitu class biru dan hijau.Terdapat juga dua buah features yaitu X1 dan X2.Kita memiliki sebuah decision boundary berupa garis linear berwarna merah yang digunakan untuk memisahkan kedua class yang kita miliki.\n",
    "\n",
    "Garis linear merah tersebut merupakan decision boundary yang memisahkan class biru dengan class hijau.Area yang diarsir dengan warna kuning itulah yang dinamakan dengan margin.Margin diperoleh berdasarkan jarak terdekat antara decision boundary dengan anggota dari kelas yang ingin dipisahkan dan setiap anggota kelas yang berperan untuk menentukan margin dikenal sebagai Support Vector.\n",
    "\n",
    "Untuk kasus tersebut terdapat tiga point sebagai Support Vector.Support Vector ini merupakan anggota dari suatu class yang posisinya paling dekat dengan decision boundary.dalam menentukan decision boundary SVM akan memilih berdasarkan margin terbesar atau juga dikenal dengan istilah Maximum Margin"
   ]
  },
  {
   "cell_type": "markdown",
   "metadata": {},
   "source": [
    "### Linearly Inseperable & Kernel Tricks"
   ]
  },
  {
   "cell_type": "markdown",
   "metadata": {},
   "source": [
    "Adanya kasus dimana kelas yang ada,tidak bisa dipisahkan dengan memanfaatkan garis linear.Untuk pemahaman lebih lanjut kita akan melihat contoh kasus dibawah ini"
   ]
  },
  {
   "cell_type": "markdown",
   "metadata": {},
   "source": [
    "Referensi: https://www.quora.com/What-is-the-kernel-trick"
   ]
  },
  {
   "cell_type": "markdown",
   "metadata": {},
   "source": [
    "![title](img3.png)"
   ]
  },
  {
   "cell_type": "markdown",
   "metadata": {},
   "source": [
    "Di kelas ini terdapat dua buah kelas yaitu kelas titik dan kelas x.terdapat juga dua buah features sehingga ketika dilakukan plotting,kita akan mendapatkan plotting dua dimensi.Pada kasus ini tidaklah memungkinkan bagi kita untuk menarik garis linear sebagai decision boundary.kondisi semacam ini juga dikenal dengan istilah \"Linearly Inseperable\".\n",
    "\n",
    "Untuk mengatasi kondisi semacam ini svm akan menproyeksikan data yang ada ke higher dimension atau ke dimensi yang lebih tinggi artinya bila data sebelumnya berada dalam dua dimensi,maka svm akan memproyeksikannya ke tiga dimensi (seperti nampak di foto sebelah kanan di atas) itu merupakan hasil proyek tiga dimensi dari data sebelumnya yang berbentuk dua dimensi.\n",
    "\n",
    "Bisa nampak disini setelah diproyeksikan ke dimensi yang lebih tinggi dimana kasus ini adalah tiga dimensi,kedua kelas ini bisa dipisahkan dengan lebih mudah yaitu dengan menerapkan decision boundary yang berbentuk bidang datar.Jadi kita bisa tempatkan suatu bidang datar yang akan berperan sebagai decision boundary yang memisahkan antara kelas x dengan kelas titik.\n",
    "\n",
    "Upaya untuk memproyeksikan sekumpulan data ke dimensi yang lebih tinggi,tentunya juga akan berimbas pada kenaikan beban komputasi.untuk solve masalah ini svm menawarkan teknik yang sangat efisien yang dikenal dengan istilah \"Kernel Tricks\".svm sendiri menawarkan beberapa jenis kernel seperti polynomial,sigmoid,rbf(radial basis function)."
   ]
  },
  {
   "cell_type": "markdown",
   "metadata": {},
   "source": [
    "## Dataset: The MNIST database of handwritten digits"
   ]
  },
  {
   "cell_type": "markdown",
   "metadata": {},
   "source": [
    "Referensi: http://yann.lecun.com/exdb/mnist/"
   ]
  },
  {
   "cell_type": "markdown",
   "metadata": {},
   "source": [
    "Walaupun dataset ini tidak disertakan sebagai sample dataset di scikit learn,tetapi kita bisa mendownloadnya dengan memanfaatkan module \"fetch openml\",karena dataset ini juga tersedia di repository openml.\n",
    "\n",
    "-caranya download dan mengakses datanya seperti dibawah ini-"
   ]
  },
  {
   "cell_type": "code",
   "execution_count": 5,
   "metadata": {},
   "outputs": [
    {
     "data": {
      "text/plain": [
       "(70000, 784)"
      ]
     },
     "execution_count": 5,
     "metadata": {},
     "output_type": "execute_result"
    }
   ],
   "source": [
    "from sklearn.datasets import fetch_openml \n",
    "\n",
    "X, y = fetch_openml('mnist_784', data_home='./dataset/mnist', return_X_y=True)\n",
    "X.shape"
   ]
  },
  {
   "cell_type": "markdown",
   "metadata": {},
   "source": [
    "*Sewaktu kita mengeksekusi script ini,pastikan memilih koneksi internet.karena fetch openml ini akan melakukan proses download dataset melalui jaringan internet*\n",
    "\n",
    "* 70000 gambar berbeda yang berisi tulisan tangan manusia yang cakup angka 0-9.dataset ini juga umum digunakan untuk melakukan perbandingan performa model machine learning dalam mengenali angka atau bilangan dari tulisan tangan manusia.\n",
    "\n",
    "Ada salah seorang tokoh besar dalam bidang computer vision yang terlibat dalam pengelolaan dataset ini yaitu Yann LeCun.beliau memiliki kontribusi besar dalam bidang OCR atau Optical Character Recognition dan juga Handwritten Recognition.\n",
    "\n",
    "##### *Karena sekarang dataset yang kita miliki berupa data image maka kita akan matplotlib untuk menampilkan datanya*"
   ]
  },
  {
   "cell_type": "code",
   "execution_count": 9,
   "metadata": {},
   "outputs": [
    {
     "data": {
      "image/png": "[encoded data removed]",
      "text/plain": [
       "<Figure size 432x288 with 8 Axes>"
      ]
     },
     "metadata": {
      "needs_background": "light"
     },
     "output_type": "display_data"
    }
   ],
   "source": [
    "import matplotlib.pyplot as plt #import module\n",
    "import matplotlib.cm as cm #CM = Color Map\n",
    "\n",
    "pos = 1\n",
    "for data in X[:8]:\n",
    "    plt.subplot(1, 8, pos)\n",
    "    plt.imshow(data.reshape((28, 28)), #data reshape\n",
    "               cmap=cm.Greys_r)\n",
    "    plt.axis('off')\n",
    "    pos += 1\n",
    "\n",
    "plt.show()"
   ]
  },
  {
   "cell_type": "markdown",
   "metadata": {},
   "source": [
    "Dari hasil tersebut bisa kita lihat,itu merupakan tulisan tangan manusia atau human handwritten yang menrepresentasikan bilangan atau angka"
   ]
  },
  {
   "cell_type": "code",
   "execution_count": 10,
   "metadata": {},
   "outputs": [
    {
     "data": {
      "text/plain": [
       "array(['5', '0', '4', '1', '9', '2', '1', '3'], dtype=object)"
      ]
     },
     "execution_count": 10,
     "metadata": {},
     "output_type": "execute_result"
    }
   ],
   "source": [
    "y[:8]"
   ]
  },
  {
   "cell_type": "markdown",
   "metadata": {},
   "source": [
    "-Selanjutnya kita akan bagi dataset tersebut ke dalam training dan testing set dengan cara di bawah ini\""
   ]
  },
  {
   "cell_type": "code",
   "execution_count": null,
   "metadata": {},
   "outputs": [],
   "source": [
    "X_train = X[:60000]\n",
    "y_train = y[:60000]\n",
    "X_test = X[60000:]\n",
    "y_test = y[60000:]\n",
    "\n",
    "# X_train = X[:1000]\n",
    "# y_train = y[:1000]\n",
    "# X_test = X[69000:]\n",
    "# y_test = y[69000:]"
   ]
  },
  {
   "cell_type": "markdown",
   "metadata": {},
   "source": [
    "## Classification dengan SVC (Support Vector Classifier)"
   ]
  },
  {
   "cell_type": "markdown",
   "metadata": {},
   "source": [
    "Kita akan menerapkan Support Vector Machine untuk melakukan angka klasifikasi angka numeric berdasarkan dataset tulisan tangan yang kita miliki"
   ]
  },
  {
   "cell_type": "code",
   "execution_count": null,
   "metadata": {},
   "outputs": [],
   "source": [
    "from sklearn.svm import SVC #import module\n",
    "\n",
    "model = SVC(random_state=0)\n",
    "model.fit(X_train, y_train) #traning model"
   ]
  },
  {
   "cell_type": "markdown",
   "metadata": {},
   "source": [
    "Setelah modelnya di traning,selanjutnya kita akan lakukan evaluasi performa dari model yang baru saja kita training,kita akan memanfaatkan classification_report."
   ]
  },
  {
   "cell_type": "code",
   "execution_count": null,
   "metadata": {},
   "outputs": [],
   "source": [
    "from sklearn.metrics import classification_report #import module\n",
    "\n",
    "y_pred = model.predict(X_test) #testing set\n",
    "print(classification_report(y_test, y_pred))"
   ]
  },
  {
   "cell_type": "markdown",
   "metadata": {},
   "source": [
    "## Hyperparameter Tuning dengan GridSearchCV"
   ]
  },
  {
   "cell_type": "markdown",
   "metadata": {},
   "source": [
    "Untuk tiap model machine learning terdapat sejumlah parameter yang bisa kita sesuaikan,dalam konteks machine learning parameter yang digunakan untuk mengatur proses training dari suatu model dikenal dengan istilah \"Hyperparameter\" dan proses untuk mencari komposisi nilai optimum dari hyperparameter ini dikenal dengan istilah \"Hyperparameter Tuning atau Hyperparameter Optimization\""
   ]
  },
  {
   "cell_type": "markdown",
   "metadata": {},
   "source": [
    "Referensi: https://en.wikipedia.org/wiki/Hyperparameter_optimization"
   ]
  },
  {
   "cell_type": "code",
   "execution_count": null,
   "metadata": {},
   "outputs": [],
   "source": [
    "from sklearn.model_selection import GridSearchCV #import module \n",
    "\n",
    "parameters = { \n",
    "    'kernel': ['rbf', 'poly', 'sigmoid'], \n",
    "    'C': [0.5, 1, 10, 100],\n",
    "    'gamma': ['scale', 1, 0.1, 0.01, 0.001]\n",
    "} #tiga parameter dengan memberikan nilai di tiap parameter tersebut\n",
    "\n",
    "grid_search = GridSearchCV(estimator=SVC(random_state=0), \n",
    "                           param_grid=parameters,\n",
    "                           n_jobs=6, #number of jobs:menjalankan proses secara paralel dari processor kita\n",
    "                           verbose=1, #ketika proses berjalan,kita akan mendapatkan feedback yang cukup informatif\n",
    "                           scoring='accuracy') #nilai pembanding\n",
    "\n",
    "grid_search.fit(X_train, y_train)"
   ]
  },
  {
   "cell_type": "markdown",
   "metadata": {},
   "source": [
    "Jika kita menggunakan verbose satu maka terdapat informasi cukup informatif selama script berjalan\n",
    "\n",
    "Hasil terakhir dari proses tuning model dengan memanfaatkan grid search ini adalah suatu train model yang di training dengan menerapkan komposisi hyperparameter paling optimum dari sejumlah opsi parameter yang kita spesifikasikan sebelumnya\n",
    "\n",
    "-Mendapatkan informasi terkait komposisi nilai parameter paling optimum dari hasil pencarian grid search dengan cara dibawah ini-"
   ]
  },
  {
   "cell_type": "code",
   "execution_count": null,
   "metadata": {},
   "outputs": [],
   "source": [
    "print(f'Best Score: {grid_search.best_score_}') #score/akurasi terbaik\n",
    "\n",
    "best_params = grid_search.best_estimator_.get_params() #nilai parameter terbaik\n",
    "print(f'Best Parameters:')\n",
    "for param in parameters:\n",
    "    print(f'\\t{param}: {best_params[param]}')"
   ]
  },
  {
   "cell_type": "markdown",
   "metadata": {},
   "source": [
    "Dari hasil tersebut kita mengetahui bahwa :\n",
    "* Skor akurasi terbaik dari proses kriteria adalah 0,907\n",
    "* Nilai parameter terbaik yang berhasil ditemukan adalah \n",
    " * kernel : rbf\n",
    " * C : 10\n",
    " * gamma : scale"
   ]
  },
  {
   "cell_type": "markdown",
   "metadata": {},
   "source": [
    "## Predict & Evaluate"
   ]
  },
  {
   "cell_type": "markdown",
   "metadata": {},
   "source": [
    "Kita akan melakukan evaluasi performa dari model yang baru saja kita training tadi dengan cara sperti dibawah ini dengan memanfaatkan classification report dan prediksi dengan menggunakan objek grid search."
   ]
  },
  {
   "cell_type": "code",
   "execution_count": null,
   "metadata": {},
   "outputs": [],
   "source": [
    "y_pred = grid_search.predict(X_test)\n",
    "\n",
    "print(classification_report(y_test, y_pred))"
   ]
  }
 ],
 "metadata": {
  "kernelspec": {
   "display_name": "Python 3",
   "language": "python",
   "name": "python3"
  },
  "language_info": {
   "codemirror_mode": {
    "name": "ipython",
    "version": 3
   },
   "file_extension": ".py",
   "mimetype": "text/x-python",
   "name": "python",
   "nbconvert_exporter": "python",
   "pygments_lexer": "ipython3",
   "version": "3.8.5"
  }
 },
 "nbformat": 4,
 "nbformat_minor": 4
}
