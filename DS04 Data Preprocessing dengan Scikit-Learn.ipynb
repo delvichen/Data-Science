{
 "cells": [
  {
   "cell_type": "markdown",
   "metadata": {},
   "source": [
    "# Sample Dataset"
   ]
  },
  {
   "cell_type": "code",
   "execution_count": 1,
   "metadata": {},
   "outputs": [
    {
     "data": {
      "text/plain": [
       "array([[ 2.1, -1.9,  5.5],\n",
       "       [-1.5,  2.4,  3.5],\n",
       "       [ 0.5, -7.9,  5.6],\n",
       "       [ 5.9,  2.3, -5.8]])"
      ]
     },
     "execution_count": 1,
     "metadata": {},
     "output_type": "execute_result"
    }
   ],
   "source": [
    "import numpy as np\n",
    "from sklearn import preprocessing\n",
    "\n",
    "sample_data = np.array([[2.1, -1.9, 5.5], \n",
    "                        [-1.5, 2.4, 3.5], \n",
    "                        [0.5, -7.9, 5.6],\n",
    "                        [5.9, 2.3, -5.8]])\n",
    "\n",
    "sample_data"
   ]
  },
  {
   "cell_type": "markdown",
   "metadata": {},
   "source": [
    "* import numpy sebagai np karena datasetnya kita generate sebagai np.array\n",
    "* modul preprocessing dengan memanggil \"from sklearn import preprocessing\"\n",
    "\n",
    "Hasil Dataset:\n",
    "* jumlah instances = 4 (jumlah baris)\n",
    "* jumlah features = 3 (jumlah kolom)\n",
    "\n",
    "dataset yang terbentuk ditampung ke dalam variable yg kita beri nama \"sample_data\""
   ]
  },
  {
   "cell_type": "code",
   "execution_count": null,
   "metadata": {},
   "outputs": [],
   "source": [
    "sample_data.shape"
   ]
  },
  {
   "cell_type": "markdown",
   "metadata": {},
   "source": [
    "* menampilkan dimensi dari dataset"
   ]
  },
  {
   "cell_type": "markdown",
   "metadata": {},
   "source": [
    "# Binarisation"
   ]
  },
  {
   "cell_type": "markdown",
   "metadata": {},
   "source": [
    "Tujuan binarisation adalah untuk menghasilkan suatu data yang terdiri dari dua nilai numerik saja yaitu 0 dan 1"
   ]
  },
  {
   "cell_type": "code",
   "execution_count": null,
   "metadata": {},
   "outputs": [],
   "source": [
    "sample_data"
   ]
  },
  {
   "cell_type": "markdown",
   "metadata": {},
   "source": [
    "* Dataset ini terdiri dari sekumpulan nilai floating point yang cukup beragam\n",
    "* Semisalnya memiliki kebutuhan untuk mengkonversi setiap nilai numerik yanglebih besar dari 0,5 menjadi 1 dan sisanya di konversikan menjadi 0\n",
    "* Kebutuhan diatas bisa dipenuhi dengan memanfaatkan kelas \"binarizer\""
   ]
  },
  {
   "cell_type": "code",
   "execution_count": null,
   "metadata": {},
   "outputs": [],
   "source": [
    "preprocessor = preprocessing.Binarizer(threshold=0.5)\n",
    "binarised_data = preprocessor.transform(sample_data)\n",
    "binarised_data"
   ]
  },
  {
   "cell_type": "markdown",
   "metadata": {},
   "source": [
    "* Bentuk object binarizer dengan memanggil \"preprocessing.Binarizer\" dan menyertakan satu buah parameter \"threshold\" diset di \"0,5\" kemudian di tampung di variabel \"prepocessor\"\n",
    "* Mengenakan proses transformasi terhadap sample data yang kita miliki dengan cara memanggil \"preprocessor.transform\" lalu panggil sample dataset nya \"(sample_data)\" kemudian ditampung di variabel \"binarised_data\"\n",
    "* Untuk nilai yang sama persis dengan nilai threshold maka akan dikonversi ke nilai \"0\"\n",
    "* Sederhananya,nilai \"1\" akan kita peroleh dari suatu nilai yang lebih besar nilai thresholdnya dan sisanya akan dikonversikan menjadi nilai \"0\""
   ]
  },
  {
   "cell_type": "markdown",
   "metadata": {},
   "source": [
    "# Scaling"
   ]
  },
  {
   "cell_type": "code",
   "execution_count": null,
   "metadata": {},
   "outputs": [],
   "source": [
    "Tujuan scaling adalah untuk menghasilkan suatu data numerik yang berada dalam rantang skala tertentu"
   ]
  },
  {
   "cell_type": "code",
   "execution_count": null,
   "metadata": {},
   "outputs": [],
   "source": [
    "sample_data"
   ]
  },
  {
   "cell_type": "markdown",
   "metadata": {},
   "source": [
    "* Data tersebut terdiri dari sekumpulan nilai floating point dengan rentang nilai,mulai dari -7,9 sebagai nilai terkecil sampai 5,9 sebagai nilai terbesar\n",
    "*  semisalnya memiliki kebutuhan untuk mengkonversikan sekumpulan nilai numerik ini ke dalam rentang nilai mulai dari 0 sampai dengan 1\n",
    "* Kebutuhan diatas bisa dipenuhi dengan memanfaatkan kelas \"scaler\""
   ]
  },
  {
   "cell_type": "code",
   "execution_count": null,
   "metadata": {},
   "outputs": [],
   "source": [
    "preprocessor = preprocessing.MinMaxScaler(feature_range=(0, 1))\n",
    "preprocessor.fit(sample_data)\n",
    "scaled_data = preprocessor.transform(sample_data)\n",
    "scaled_data"
   ]
  },
  {
   "cell_type": "markdown",
   "metadata": {},
   "source": [
    "*Scalling sederhana*\n",
    "\n",
    "* Panggil preprocessing.MinMaxScaler menyertakan satu parameter penting yaitu \"feature_range\" akan membutuhkan data yang bertipe tuple yang akan memuat dua nilai\n",
    "* Kasus ini nilainya kita set sebagai 0 dan 1.nilai 0 ini akan mengindikasikan nilai terkecil dari skala yang baru dan nilai 1 ini mengindikasikan nilai terbesar dari skala yang baru nanti\n",
    "* Begitu kita memanggil \"preprocessing.MinMaxScaler\" dengan nilai (feature_range=(0, 1)) maka akan terbentuk objek scaler yang kita tampung ke dalam variabel \"preprocesor\"\n",
    "* Selanjutnya objek scaler ini akan kita fit terhadap sample data yang kita miliki caranya memanggil \"preprocessor.fit\" lalu kita masukkan (sample_data) sebagai parameternya\n",
    "* Setelah scallernya kita fit terhadap sample data kita maka scaller ini bisa kita gunakan untuk melakukan proses transformasi data\n",
    "* Untuk kasus kita kali ini transformasi datanya juga akan kita kenakan pada sample data yang kita miliki tadi.oleh karena itu kita panggil \"preprocessor.transform\" alu kita masukkan (sample_data) nya.hasil dari proses transformasi data ini kita tampung ke dalam variable \"scaled_data\"\n",
    "\n",
    "*Kesimpulan*\n",
    "* Proses minmaxscaler digunakan untuk mengubah skala nilai terkecil dan nilai terbesar dari data set yang kita miliki ini ke skala tertentu\n",
    "\n",
    "* Proses fitting dan transformasinya dikenakan terhadap data set yang sama yaitu sample_data\n",
    "* Dalam scikit learn,proses ini bisa kita satukan dengan memanfaatkan method fit.transform (dengan cara seperti dibawah ini)"
   ]
  },
  {
   "cell_type": "code",
   "execution_count": null,
   "metadata": {},
   "outputs": [],
   "source": [
    "scaled_data = preprocessor.fit_transform(sample_data)\n",
    "scaled_data"
   ]
  },
  {
   "cell_type": "markdown",
   "metadata": {},
   "source": [
    "* Panggil objek preprocessornya atau objek scalernya lalu kita panggil method \"fit.transform\" lalu kita sertakan sample data sebagai parameternya\n",
    "* Proses fitting dan transformasi dikenakan pada data yang sama\n",
    "* Selanjutnya hasil dari proses transformasinya kita akan tampung ke variable \"scaled_data\""
   ]
  },
  {
   "cell_type": "markdown",
   "metadata": {},
   "source": [
    "# L1 Normalisation: Least Absolute Deviations"
   ]
  },
  {
   "cell_type": "markdown",
   "metadata": {},
   "source": [
    "Tujuan teknik ini adalah untuk melakukan normalisasi terhadap data numerik yang kita miliki"
   ]
  },
  {
   "cell_type": "code",
   "execution_count": null,
   "metadata": {},
   "outputs": [],
   "source": [
    "sample_data"
   ]
  },
  {
   "cell_type": "markdown",
   "metadata": {},
   "source": [
    "* Pada kasus normalisation pertama ini kita akan menerapkan \"Least Absolute Deviations\""
   ]
  },
  {
   "cell_type": "code",
   "execution_count": null,
   "metadata": {},
   "outputs": [],
   "source": [
    "l1_normalised_data = preprocessing.normalize(sample_data, norm='l1')\n",
    "l1_normalised_data"
   ]
  },
  {
   "cell_type": "markdown",
   "metadata": {},
   "source": [
    "* Pertama kita panggil \"preprocessing\" lalu kita ikuti dengan \".normalize\",nah \"preprocessing.normalize\" ini membutuhkan dua parameter,parameter adalah datanya atau sample datanya lalu parameter kedua adalah parameter \"norm\" pada kasus ini parameter normnya kita beli nilai string 'l1',normalisasi 'l1' ini akan berasosasi dengan normalisasi yang menerapkan \"Least Absolute Deviations\"\n",
    "* Pemanggilan fungsi \"preprocessing.normalize\" ini akan menghasilkan data yang ternomalisasi dan data yang sudah ternomalisasi akan kita tampung ke dalam variabel \"l1_normalised_data\""
   ]
  },
  {
   "cell_type": "markdown",
   "metadata": {},
   "source": [
    "Check referensi di https://en.wikipedia.org/wiki/Least_absolute_deviations"
   ]
  },
  {
   "cell_type": "markdown",
   "metadata": {},
   "source": [
    "# L2 Normalisation: Least Squares"
   ]
  },
  {
   "cell_type": "code",
   "execution_count": null,
   "metadata": {},
   "outputs": [],
   "source": [
    "sample_data"
   ]
  },
  {
   "cell_type": "code",
   "execution_count": null,
   "metadata": {},
   "outputs": [],
   "source": [
    "l2_normalised_data = preprocessing.normalize(sample_data, norm='l2')\n",
    "l2_normalised_data"
   ]
  },
  {
   "cell_type": "markdown",
   "metadata": {},
   "source": [
    "* Pertama kita panggil \"preprocessing\" lalu kita ikuti dengan \".normalize\",nah \"preprocessing.normalize\" ini membutuhkan dua parameter,parameter adalah datanya atau sample datanya lalu parameter kedua adalah parameter \"norm\" pada kali ini parameter normnya kita beli nilai 'l2',normalisasi 'l1' ini akan berasosasi dengan normalisasi yang menerapkan \"Least Squares\"\n",
    "* Pemanggilan fungsi \"preprocessing.normalize\" ini akan menghasilkan data yang ternomalisasi dan data yang sudah ternomalisasi akan kita tampung ke dalam variabel \"l2_normalised_data\""
   ]
  },
  {
   "cell_type": "markdown",
   "metadata": {},
   "source": [
    "Check referensi di https://en.wikipedia.org/wiki/Least_squares"
   ]
  }
 ],
 "metadata": {
  "kernelspec": {
   "display_name": "Python 3",
   "language": "python",
   "name": "python3"
  },
  "language_info": {
   "codemirror_mode": {
    "name": "ipython",
    "version": 3
   },
   "file_extension": ".py",
   "mimetype": "text/x-python",
   "name": "python",
   "nbconvert_exporter": "python",
   "pygments_lexer": "ipython3",
   "version": "3.8.5"
  }
 },
 "nbformat": 4,
 "nbformat_minor": 4
}
