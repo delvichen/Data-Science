{
 "cells": [
  {
   "cell_type": "markdown",
   "metadata": {},
   "source": [
    "# Persiapan Dataset"
   ]
  },
  {
   "cell_type": "markdown",
   "metadata": {},
   "source": [
    "#### Load Sample Dataset: Iris Dataset"
   ]
  },
  {
   "cell_type": "code",
   "execution_count": 2,
   "metadata": {},
   "outputs": [],
   "source": [
    "from sklearn.datasets import load_iris\n",
    "\n",
    "iris = load_iris()\n",
    "\n",
    "X = iris.data\n",
    "y = iris.target"
   ]
  },
  {
   "cell_type": "markdown",
   "metadata": {},
   "source": [
    "* Baris pertama proses import\n",
    "* Baris kedua load iris dataset\n",
    "* Baris ketiga sekumpulan nilai features di tampung ke variable x\n",
    "* Baris keempat sekumpulan nilai target di tampung ke variable y"
   ]
  },
  {
   "cell_type": "markdown",
   "metadata": {},
   "source": [
    "#### Splitting Dataset: Training & Testing Set"
   ]
  },
  {
   "cell_type": "code",
   "execution_count": 3,
   "metadata": {},
   "outputs": [],
   "source": [
    "from sklearn.model_selection import train_test_split\n",
    "\n",
    "X_train, X_test, y_train, y_test = train_test_split(X,\n",
    "                                                    y,\n",
    "                                                    test_size=0.4,\n",
    "                                                    random_state=1)"
   ]
  },
  {
   "cell_type": "markdown",
   "metadata": {},
   "source": [
    "*Parameter dan keterangannya:*\n",
    "* X : sekumpulan nilai features\n",
    "* Y : sekumpulan nilai target\n",
    "* test_size : ukuran dari testing set (proporsi 40%) dan training set (proporsi 60%) dari total keseluruhan dataset\n",
    "* random_state : pengacakan\n",
    "\n",
    "train_test_split menghasilkan empat kumpulan nilai yang harus kita tampungkan ke(X_train, X_test, y_train, y_test)"
   ]
  },
  {
   "cell_type": "markdown",
   "metadata": {},
   "source": [
    "# Training Model"
   ]
  },
  {
   "cell_type": "markdown",
   "metadata": {},
   "source": [
    "* Pada Scikit Learn, model machine learning dibentuk dari class yang dikenal dengan istilah estimator.\n",
    "\n",
    "* Setiap estimator akan mengimplementasikan dua method utama, yaitu fit() dan predict().\n",
    "\n",
    "* Method fit() digunakan untuk melakukan training model.\n",
    "\n",
    "* Method predict() digunakan untuk melakukan estimasi/prediksi dengan memanfaatkan trained model."
   ]
  },
  {
   "cell_type": "code",
   "execution_count": 4,
   "metadata": {},
   "outputs": [
    {
     "data": {
      "text/plain": [
       "KNeighborsClassifier(n_neighbors=3)"
      ]
     },
     "execution_count": 4,
     "metadata": {},
     "output_type": "execute_result"
    }
   ],
   "source": [
    "from sklearn.neighbors import KNeighborsClassifier\n",
    "\n",
    "model = KNeighborsClassifier(n_neighbors=3)\n",
    "model.fit(X_train, y_train)"
   ]
  },
  {
   "cell_type": "markdown",
   "metadata": {},
   "source": [
    "* KNeighborsClassifier sebagai machine learning model\n",
    " * Baris kedua : pembentukan objek model : n_neighbors (parameter ini dibutuhkan karena objek model yang mau kita bentuk berasal dari \"KNeighborsClassifier\" dimana kita perlu untuk menspesifikasikan jumlah neighbors.onjek model terbentuk akan kita tampung ke dalam variable \"model\"\n",
    "* Baris ketiga :training menggunakan method \"fit\",proses training menggunakan training set "
   ]
  },
  {
   "cell_type": "markdown",
   "metadata": {},
   "source": [
    "# Evaluasi Model"
   ]
  },
  {
   "cell_type": "code",
   "execution_count": 5,
   "metadata": {},
   "outputs": [
    {
     "name": "stdout",
     "output_type": "stream",
     "text": [
      "Accuracy: 0.9833333333333333\n"
     ]
    }
   ],
   "source": [
    "from sklearn.metrics import accuracy_score\n",
    "\n",
    "y_pred = model.predict(X_test)\n",
    "acc = accuracy_score(y_test, y_pred)\n",
    "print(f'Accuracy: {acc}')"
   ]
  },
  {
   "cell_type": "markdown",
   "metadata": {},
   "source": [
    "* Accuary_score sebagai matrix untuk melakukan evaluasi pada suatu model\n",
    "* Baris kedua : melakukan prediksi terhadap nilai features yang ada di dalam testing dataset (model.predict(X_test)) dan hasil prediksi di tampung ke variable (y_pred)\n",
    "* Evaluasi ini membandingkan nilai target yang terdapat pada variable (y_test) dibandingkan dengan nilai prediksi yang kita tampungkan ke dalam variable (y_pred)\n",
    "* Baris ketiga : nilai accuracy ditampung ke variable (acc)"
   ]
  },
  {
   "cell_type": "markdown",
   "metadata": {},
   "source": [
    "# Pemanfaatan Trained Model"
   ]
  },
  {
   "cell_type": "code",
   "execution_count": 6,
   "metadata": {},
   "outputs": [
    {
     "data": {
      "text/plain": [
       "array([1, 2])"
      ]
     },
     "execution_count": 6,
     "metadata": {},
     "output_type": "execute_result"
    }
   ],
   "source": [
    "data_baru = [[5, 5, 3, 2], \n",
    "             [2, 4, 3, 5]]\n",
    "\n",
    "preds =  model.predict(data_baru)\n",
    "preds"
   ]
  },
  {
   "cell_type": "markdown",
   "metadata": {},
   "source": [
    "* Berbeda dengan testing set,pada data baru kita hanya memiliki sekumpulan nilai features tetapi kita tidak nilai target\n",
    "* Memanfaatkan model yang sudah kita training sebelumnya untuk melakukan prediksi nilai target dari sekumpulan nilai features yang ada\n",
    "* Baris pertama : dua instances,setiap instances terbagi empat nilai features\n",
    "* Baris kedua : untuk melakukan prediksi pada data baru,panggil variable model.predict(data_baru) dan di tampung pada variable (preds)"
   ]
  },
  {
   "cell_type": "code",
   "execution_count": 7,
   "metadata": {},
   "outputs": [
    {
     "name": "stdout",
     "output_type": "stream",
     "text": [
      "Hasil Prediksi: ['versicolor', 'virginica']\n"
     ]
    }
   ],
   "source": [
    "pred_species = [iris.target_names[p] for p in preds] \n",
    "print(f'Hasil Prediksi: {pred_species}')"
   ]
  },
  {
   "cell_type": "markdown",
   "metadata": {},
   "source": [
    "* Proses untuk memanggil target names yang kita mappingkan dengan nilai hasil prediksi di atas\n",
    "\n",
    "*Hasil Prediksi:*\n",
    "* Instances pertama diprediksi ke species iris (versi_color)\n",
    "* Instances kedua diprediksi ke species iris (virginiva)"
   ]
  },
  {
   "cell_type": "markdown",
   "metadata": {},
   "source": [
    "# Dump & Load Trained Model"
   ]
  },
  {
   "cell_type": "markdown",
   "metadata": {},
   "source": [
    "#### Dumping Model Machine Learning menjadi file joblib"
   ]
  },
  {
   "cell_type": "code",
   "execution_count": null,
   "metadata": {},
   "outputs": [],
   "source": [
    "import joblib\n",
    "\n",
    "joblib.dump(model, 'iris_classifier_knn.joblib')"
   ]
  },
  {
   "cell_type": "markdown",
   "metadata": {},
   "source": [
    "* Baris pertama untuk menggunakan joblib kita import \"joblib\"\n",
    "* Baris kedua melakukan proses dumping model machine learning yang telah kita training(trained model) ke dalam suatu file joblib dengan cara panggil joblib.dump dan membutuhkan dua parameter.parameter pertama trained model yang mau kita dumb(model),parameter kedua adalah nama file joblibnya('iris_classifier_knn.joblib')"
   ]
  },
  {
   "cell_type": "markdown",
   "metadata": {},
   "source": [
    "#### Loading Model Machine Learning dari file joblib"
   ]
  },
  {
   "cell_type": "code",
   "execution_count": null,
   "metadata": {},
   "outputs": [],
   "source": [
    "production_model = joblib.load('iris_classifier_knn.joblib')"
   ]
  },
  {
   "cell_type": "markdown",
   "metadata": {},
   "source": [
    "* Load file joblib menjadi machine learning model yang siap digunakan.\n",
    "* Machine learning model ditampung ke variable (production_model)\n",
    "* Kita bisa memanfaatkan production model ini untuk melakukan prediksi terhadap data-data baru yang kita temui di production"
   ]
  }
 ],
 "metadata": {
  "kernelspec": {
   "display_name": "Python 3",
   "language": "python",
   "name": "python3"
  },
  "language_info": {
   "codemirror_mode": {
    "name": "ipython",
    "version": 3
   },
   "file_extension": ".py",
   "mimetype": "text/x-python",
   "name": "python",
   "nbconvert_exporter": "python",
   "pygments_lexer": "ipython3",
   "version": "3.8.5"
  }
 },
 "nbformat": 4,
 "nbformat_minor": 4
}
