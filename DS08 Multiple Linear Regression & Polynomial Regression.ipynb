{
 "cells": [
  {
   "cell_type": "markdown",
   "metadata": {},
   "source": [
    "Multiple Linear Regression & Polynomial Regression merupakan pengembangan model Simple Linear Regression yang pernah kita pelajari sebelumnya"
   ]
  },
  {
   "cell_type": "markdown",
   "metadata": {},
   "source": [
    "# Sample Dataset"
   ]
  },
  {
   "cell_type": "code",
   "execution_count": null,
   "metadata": {},
   "outputs": [],
   "source": [
    "import pandas as pd\n",
    "\n",
    "pizza = {'diameter': [6, 8, 10, 14, 18], \n",
    "         'n_topping': [2, 1, 0, 2, 0],\n",
    "         'harga': [7, 9, 13, 17.5, 18]}\n",
    "\n",
    "train_pizza_df = pd.DataFrame(pizza)\n",
    "train_pizza_df"
   ]
  },
  {
   "cell_type": "markdown",
   "metadata": {},
   "source": [
    "* Pada sesi pembelajaran kali ini,kita akan kembali memanfaatkan dataset pizza,hanya saja kali ini kita akan menyertakan kolom baru yaitu jumlah topping/\"n_topping\"\n",
    "\n",
    "* Dataset dibentuk dari suatu dictionary yang terdiri dari 3 buah keys yaitu diameter,n_topping,harga.dimana setiap keys ini akan menampung list berisi sekumpulan bilangan\n",
    "\n",
    "* pd.DataFrame(pizza) ditampungkan ke dalam variable train_pizza_df"
   ]
  },
  {
   "cell_type": "code",
   "execution_count": null,
   "metadata": {},
   "outputs": [],
   "source": [
    "pizza = {'diameter': [8, 9, 11, 16, 12], \n",
    "         'n_topping': [2, 0, 2, 2, 0],\n",
    "         'harga': [11, 8.5, 15, 18, 11]}\n",
    "\n",
    "test_pizza_df = pd.DataFrame(pizza)\n",
    "test_pizza_df"
   ]
  },
  {
   "cell_type": "markdown",
   "metadata": {},
   "source": [
    "* Data Diameter,n_topping akan berperan sebagai features.\n",
    "* Harga pizza akan berperan sebagai target.\n",
    "* Karena disini akan diprediksi merupakan nilai continuous dan bukannya kategori, maka kasus ini termasuk dalam \"Regression Tasks\""
   ]
  },
  {
   "cell_type": "markdown",
   "metadata": {},
   "source": [
    "# Preprocessing Dataset"
   ]
  },
  {
   "cell_type": "code",
   "execution_count": null,
   "metadata": {},
   "outputs": [],
   "source": [
    "import numpy as np\n",
    "\n",
    "X_train = np.array(train_pizza_df[['diameter', 'n_topping']])\n",
    "y_train = np.array(train_pizza_df['harga'])\n",
    "\n",
    "print(f'X_train:\\n{X_train}\\n')\n",
    "print(f'y_train: {y_train}')"
   ]
  },
  {
   "cell_type": "markdown",
   "metadata": {},
   "source": [
    "Sebelum melakukan proses training model,kita akan kelompokkan terlebih dahulu sekumpulan nilai features dan nilai target dari dataset yg kita miliki\n",
    "\n",
    "* Diameter dan jumlah topping akan kita konversikan ke numpy array dan kita tampung ke dalam variabel X_train sebagai sekumpulan nilai features untuk training set\n",
    "* Harga pizza juga akan kita konversikan menjadi numpy array untuk selanjutnya kita tampung ke dalam variabel y_train sebagai sekumpulan nilai target untuk training set\n",
    "* X_train akan selalu berada dalam format array dua dimensi\n",
    "* y_train akan selalu berada dalam format array satu dimensi"
   ]
  },
  {
   "cell_type": "code",
   "execution_count": null,
   "metadata": {},
   "outputs": [],
   "source": [
    "X_test = np.array(test_pizza_df[['diameter', 'n_topping']])\n",
    "y_test = np.array(test_pizza_df['harga'])\n",
    "\n",
    "print(f'X_test:\\n{X_test}\\n')\n",
    "print(f'y_test: {y_test}')"
   ]
  },
  {
   "cell_type": "markdown",
   "metadata": {},
   "source": [
    "# Multiple Linear Regression"
   ]
  },
  {
   "cell_type": "markdown",
   "metadata": {},
   "source": [
    "Multiple Linear Regression merupakan generalisasi dari Simple Linear Regression yang memungkinkan untuk menggunakan beberapa explanatory variables.\n",
    "\n",
    "$y = \\alpha + \\beta_1x_1 + \\beta_2x_2 + \\dots + \\beta_nx_n$\n",
    "\n",
    "*𝑥 merupakan nilai features*\n",
    "\n",
    "*jumlah 𝑥 bisa lebih dari satu*\n",
    "\n",
    "*untuk setiap nilai 𝑥 akan dikalikan dengan beta*"
   ]
  },
  {
   "cell_type": "markdown",
   "metadata": {},
   "source": [
    "Check referensi di https://en.wikipedia.org/wiki/Linear_regression"
   ]
  },
  {
   "cell_type": "code",
   "execution_count": null,
   "metadata": {},
   "outputs": [],
   "source": [
    "from sklearn.linear_model import LinearRegression\n",
    "from sklearn.metrics import r2_score\n",
    "\n",
    "model = LinearRegression()\n",
    "model.fit(X_train, y_train)\n",
    "y_pred = model.predict(X_test)\n",
    "    \n",
    "print(f'r_squared: {r2_score(y_test, y_pred)}')"
   ]
  },
  {
   "cell_type": "markdown",
   "metadata": {},
   "source": [
    "* Hasil prediksi akan kita gunakan untuk mengukur performa dari model kita,untuk kasus kita kali ini kita akan gunakan \"r2_score\" sebagai pengukuran performanya\n",
    "* Disini kita juga bisa menggunakan metric pengukuran performa yang lain\n",
    "\n",
    "*Ternyata pada scikit learn tidak ada perbedaan antara implementasi Simple Linear Regression dan Multiple Linear Regression,yang berbeda itu hanya pada jumlah features yang dilewatkanya saja*"
   ]
  },
  {
   "cell_type": "markdown",
   "metadata": {},
   "source": [
    "# Polynomial Regression"
   ]
  },
  {
   "cell_type": "markdown",
   "metadata": {},
   "source": [
    "Polynomial Regression memodelkan hubungan antara independent variable $x$ dan dependent variable $y$ sebagai derajat polynomial dalam $x$.\n",
    "\n",
    "* independent variable merupakan features\n",
    "* dependent variable merupakan targets"
   ]
  },
  {
   "cell_type": "markdown",
   "metadata": {},
   "source": [
    "Check referensi di https://en.wikipedia.org/wiki/Polynomial_regression"
   ]
  },
  {
   "cell_type": "markdown",
   "metadata": {},
   "source": [
    "### Preprocessing Dataset"
   ]
  },
  {
   "cell_type": "code",
   "execution_count": null,
   "metadata": {},
   "outputs": [],
   "source": [
    "X_train = np.array(train_pizza_df['diameter']).reshape(-1, 1)\n",
    "y_train = np.array(train_pizza_df['harga'])\n",
    "\n",
    "print(f'X_train:\\n{X_train}\\n')\n",
    "print(f'y_train: {y_train}')"
   ]
  },
  {
   "cell_type": "markdown",
   "metadata": {},
   "source": [
    "* Untuk memnyederhanakan proses belajar kita akan mangkas jumlah features nya menjadi 1 features saja\n",
    "* Kenapa perlu kita reshape ? karena pada scikit learn untuk featuresnya itu harus berada dalam array 2 dimensi"
   ]
  },
  {
   "cell_type": "markdown",
   "metadata": {},
   "source": [
    "### Polynomial Regression: Quadratic"
   ]
  },
  {
   "cell_type": "markdown",
   "metadata": {},
   "source": [
    "$y = \\alpha + \\beta_1x + \\beta_2x^2$\n",
    "\n",
    "* Quadratic = derajat polynomial dua\n",
    "* Cubic = derajat polynomial tiga\n",
    "\n",
    "*Nilai features tunggal akan direpresentasikan dalam format polynomial.Untuk kasus kali ini kita menggunakan polynomial derajat dua*"
   ]
  },
  {
   "cell_type": "markdown",
   "metadata": {},
   "source": [
    "#### Polynomial Features"
   ]
  },
  {
   "cell_type": "code",
   "execution_count": null,
   "metadata": {},
   "outputs": [],
   "source": [
    "from sklearn.preprocessing import PolynomialFeatures\n",
    "\n",
    "quadratic_feature = PolynomialFeatures(degree=2)\n",
    "X_train_quadratic = quadratic_feature.fit_transform(X_train)\n",
    "\n",
    "print(f'X_train_quadratic:\\n{X_train_quadratic}\\n')"
   ]
  },
  {
   "cell_type": "markdown",
   "metadata": {},
   "source": [
    "* Degree merupakan derajat polynomial.\n",
    "* Karena kasus kita kali ini ingin membentuk Quadratic Polynomial Regression makanya degreenya kita beri nilai \"2\"\n",
    "\n",
    "Hasil Quadratic Polynomial Regression:\n",
    "* 1 diperoleh dari nilai x dipangkatkan 0\n",
    "* 6 diperoleh dari nilai x dipangkatkan 1\n",
    "* 36 diperoleh dari nilai x dipangkatkan 2\n",
    "\n",
    "dst."
   ]
  },
  {
   "cell_type": "markdown",
   "metadata": {},
   "source": [
    "#### Training Model"
   ]
  },
  {
   "cell_type": "code",
   "execution_count": null,
   "metadata": {},
   "outputs": [],
   "source": [
    "model = LinearRegression()\n",
    "model.fit(X_train_quadratic, y_train)"
   ]
  },
  {
   "cell_type": "markdown",
   "metadata": {},
   "source": [
    "*proses transformasi polynomial dikenakan pada features dan tidak dikenakan pada targets*\n",
    "\n",
    "Pada scikit learn tidak ada perbedaan antara implementasi Simple Linear Regression dan Polynomial Linear Regression,yang berbeda hanyalah pada polynomial regression, kita perlu melakukan transformasi features ke dalam polynomial features sebelum dilakukan proses training model"
   ]
  },
  {
   "cell_type": "markdown",
   "metadata": {},
   "source": [
    "#### Visualisasi Model"
   ]
  },
  {
   "cell_type": "code",
   "execution_count": null,
   "metadata": {},
   "outputs": [],
   "source": [
    "import matplotlib.pyplot as plt\n",
    "\n",
    "X_vis = np.linspace(0, 25, 100).reshape(-1, 1) #baris 2\n",
    "X_vis_quadratic = quadratic_feature.transform(X_vis) #baris 3\n",
    "y_vis_quadratic = model.predict(X_vis_quadratic) #baris 4\n",
    "\n",
    "plt.scatter(X_train, y_train) #baris 5\n",
    "plt.plot(X_vis, y_vis_quadratic, '-r') #baris 6\n",
    "\n",
    "plt.title('Perbandingan Diameter dan Harga Pizza')\n",
    "plt.xlabel('Diameter (inch)')\n",
    "plt.ylabel('Harga (dollar)')\n",
    "plt.xlim(0, 25)\n",
    "plt.ylim(0, 25)\n",
    "plt.grid(True)\n",
    "plt.show()"
   ]
  },
  {
   "cell_type": "markdown",
   "metadata": {},
   "source": [
    "* Baris 2 : bentuk sederet bilangan mulai dari 0 sampai 25 sebanyak 100 data point.data point ini kemudian akan kita masukkan ke dalam variable \"x_vis\"\n",
    "* Baris 3 :  \"x_vis\" akan kita kenakan proses transformasi.disini kita tidak menggunakan fit transform,tetapi kita hanya melakukan transform.karena kita akan menggunakan quadratic features yg kita bentuk sebelumnya\n",
    "* Baris 4 : melakukan prediksi terhadap nilai x_vis_quadratic\n",
    "\n",
    "*Visualisasi dua hal*\n",
    "* Baris 5 : visualisasikan yang pertama adalah x_train dan y_train,data training kita visualisasikan sebagai scatter plot,dan ini akan menghasilkan data point (lima titik) menrepresentasikan kelima data point pada training set kita\n",
    "* Baris 6 : Memplotting hasil prediksi dari model kita,plotting sebagai line plot (plotting garis) warna merah (Untuk polynomial regression bentuknya tidak lagi garis lurus)"
   ]
  },
  {
   "cell_type": "markdown",
   "metadata": {},
   "source": [
    "### Polynomial Regression: Quadratic vs Cubic"
   ]
  },
  {
   "cell_type": "code",
   "execution_count": null,
   "metadata": {},
   "outputs": [],
   "source": [
    "# Training Set\n",
    "plt.scatter(X_train, y_train) #plotting training dataset hasilnya berupa lima datapoint/lima titik\n",
    "\n",
    "# Linear\n",
    "model = LinearRegression() #membentuk model simple linear regression\n",
    "model.fit(X_train, y_train) #melakukan training\n",
    "X_vis = np.linspace(0, 25, 100).reshape(-1, 1) #menyiapkan 100 data point dengan jangkauan mulai dari 0 sampai 25,sebelum ditampung,kita reshape\n",
    "y_vis = model.predict(X_vis) #features untuk melakukan prediksi\n",
    "plt.plot(X_vis, y_vis, '--r', label='linear') #hasil prediksi ditampil secara visual,dengan garis putus-putus berwarna merah\n",
    "\n",
    "# Quadratic\n",
    "quadratic_featuriser = PolynomialFeatures(degree=2) #bedanya memiliki parameter derajat 2\n",
    "X_train_quadratic = quadratic_feature.fit_transform(X_train) #melakukan fit transform terhadap nilai dari X_train\n",
    "model = LinearRegression() #bentuk objek model\n",
    "model.fit(X_train_quadratic, y_train) #melakukan proses training, dengan menggunakan features yang sudah kita transformasikan ke quadratic polynomial \n",
    "X_vis_quadratic = quadratic_feature.transform(X_vis) #X_vis akan kita transformasikan menjadi quadratic polynomial\n",
    "y_vis = model.predict(X_vis_quadratic) #melakukan prediksi\n",
    "plt.plot(X_vis, y_vis, '--g', label='quadratic') #dengan garis putus-putus berwarna hijau\n",
    "\n",
    "# Cubic\n",
    "cubic_feature = PolynomialFeatures(degree=3) #bedanya memiliki parameter derajat 2\n",
    "X_train_cubic = cubic_feature.fit_transform(X_train)  #melakukan fit transform terhadap nilai dari X_train\n",
    "model = LinearRegression() #bentuk objek model\n",
    "model.fit(X_train_cubic, y_train) #melakukan proses training, dengan menggunakan features yang sudah kita transformasikan ke cubic polynomial \n",
    "X_vis_cubic = cubic_feature.transform(X_vis) # X_vis akan kita transformasikan menjadi cubic polynomial\n",
    "y_vis = model.predict(X_vis_cubic) #melakukan prediksi\n",
    "plt.plot(X_vis, y_vis, '--y', label='cubic') ##dengan garis putus-putus berwarna kuning\n",
    "\n",
    "plt.title('Perbandingan Diameter dan Harga Pizza')\n",
    "plt.xlabel('Diameter (inch)')\n",
    "plt.ylabel('Harga (dollar)')\n",
    "plt.legend()\n",
    "plt.xlim(0, 25)\n",
    "plt.ylim(0, 25)\n",
    "plt.grid(True)\n",
    "plt.show()"
   ]
  },
  {
   "cell_type": "markdown",
   "metadata": {},
   "source": [
    "* Garis Putus-Putus Merah menrepresentasikan model Simple Linear Regression\n",
    "* Garis Putus-Putus Hijau menrepresentasikan model Quadratic Polynomial Regression\n",
    "* Garis Putus-Putus Kuning menrepresentasikan model Cubic Polynomial Regression"
   ]
  }
 ],
 "metadata": {
  "kernelspec": {
   "display_name": "Python 3",
   "language": "python",
   "name": "python3"
  },
  "language_info": {
   "codemirror_mode": {
    "name": "ipython",
    "version": 3
   },
   "file_extension": ".py",
   "mimetype": "text/x-python",
   "name": "python",
   "nbconvert_exporter": "python",
   "pygments_lexer": "ipython3",
   "version": "3.8.5"
  }
 },
 "nbformat": 4,
 "nbformat_minor": 4
}
