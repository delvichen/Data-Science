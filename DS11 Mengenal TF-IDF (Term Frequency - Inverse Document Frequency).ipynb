{
 "cells": [
  {
   "cell_type": "markdown",
   "metadata": {},
   "source": [
    "Dalam sesi pembelajaran kali ini,kita akan mempelajari suatu teknik untuk menghitung bobot suatu kata terhadap suatu dokumen dari sekumpulan dokumen"
   ]
  },
  {
   "cell_type": "markdown",
   "metadata": {},
   "source": [
    "TF-IDF (Term Frequency - Inverse Document Frequency) merupakan salah satu metode statistik yang digunakan untuk mengukur seberapa penting suatu kata terhadap suatu dokumen tertentu dari sekumpulan dokumen atau corpus.\n",
    "\n",
    "Teknik ini cukup umum ditemui dalam bidang information retrieval\n",
    "\n",
    "Referensi:\n",
    "\n",
    "* https://en.wikipedia.org/wiki/Tf%E2%80%93idf\n",
    "* https://scikit-learn.org/stable/modules/feature_extraction.html#text-feature-extraction"
   ]
  },
  {
   "cell_type": "markdown",
   "metadata": {},
   "source": [
    "TF-IDF ini pada dasarnya melibatkan perkalian antara dua nilai yaitu nilai TF (Term Frequency) dengan nilai IDF (Inverse Document Frequency)"
   ]
  },
  {
   "cell_type": "markdown",
   "metadata": {},
   "source": [
    "### Term Frequency"
   ]
  },
  {
   "cell_type": "markdown",
   "metadata": {},
   "source": [
    "Terdapat beberapa opsi formula yang bisa digunakan untuk menrepresentasikan term frequency.\n",
    "\n",
    "Formula yang paling sederhana adalah dengan menghitung jumlah kemunculan suatu term atau suatu kata pada suatu dokumen.formula semacam ini seringkali dikenal sebagai \"Raw Count\".Hanya saja implementasi term frequency pada scikit learn tidak mengadopsi formula semacam ini.\n",
    "\n",
    "Term frequency yang diimplementasikan pada scikit learn menerapkan formula sebagai berikut\n",
    "* Term frequency adjusted for document length, dimana term frequency diekspresikan sebagai hasil pembagian antara jumlah kemunculan suatu term pada dokumen dengan total jumlah kata yang terkandung dalam dokumen tersebut\n",
    "\n",
    "Sama halnya dengan term frequency disini juga terdapat beberapa opsi formula yang bisa digunakan untuk menrepresentasikan inverse document frequency.formula yang paling sederhana adalah dengan menghitung nilai log dari pembagian antara total jumlah dokumen dalam suatu corpus dengan jumlah dokumen yang mengandung term tertentu.\n",
    "\n",
    "*Membuka link scikit learn untuk melihat implementasi inverse document frequency*\n",
    "\n",
    "Scroll kebawah,terdapat formula diterapkan pada scikit learn untuk menrepresentasikan inverse document frequency\n",
    "* n menrepresentasikan total jumlah dokumen dalam suatu corpus\n",
    "* df(t) menrepresentasikan jumlah dokumen yang mengandung term tertentu\n",
    "\n",
    "Selain itu scikit learn juga menerapkan L2 Normalization pada kalkulasi pembobotan TF-IDF"
   ]
  },
  {
   "cell_type": "markdown",
   "metadata": {},
   "source": [
    "# Dataset"
   ]
  },
  {
   "cell_type": "code",
   "execution_count": null,
   "metadata": {},
   "outputs": [],
   "source": [
    "corpus = [\n",
    "    'the house had a tiny little mouse', \n",
    "    'the cat saw the mouse',\n",
    "    'the mouse ran away from the house', \n",
    "    'the cat finally ate the mouse',\n",
    "    'the end of the mouse story'\n",
    "]\n",
    "\n",
    "corpus"
   ]
  },
  {
   "cell_type": "markdown",
   "metadata": {},
   "source": [
    "Kasus kita kali ini datasetnya berupa sekumpulan kalimat pendek.seperti yang dibicarakan pada chapter 10,dataset text ini juga sering dikenal dengan istilah \"Corpus\".Corpusnya terdiri dari lima kalimat pendek"
   ]
  },
  {
   "cell_type": "markdown",
   "metadata": {},
   "source": [
    "# TF-IDF Weights dengan TfidfVectorizer"
   ]
  },
  {
   "cell_type": "code",
   "execution_count": null,
   "metadata": {},
   "outputs": [],
   "source": [
    "from sklearn.feature_extraction.text import TfidfVectorizer #import module\n",
    "\n",
    "vectorizer = TfidfVectorizer(stop_words='english') #Menyertakan parameter stop_words yang kita beri nilai \"english\"\n",
    "response = vectorizer.fit_transform(corpus)\n",
    "print(response)"
   ]
  },
  {
   "cell_type": "markdown",
   "metadata": {},
   "source": [
    "Pada scikit learn TF-IDF dapat diterapkan dengan memanfaatkan module TfidfVectorizer\n",
    "\n",
    "Dari hasil tersebut :\n",
    "* Angka-Angka di kiri (kolom pertama),menrepresentasikan indeks dari corpus kita (0,1,2,3,4)\n",
    " * Index 0 menrepresentasikan kalimat pertama dari corpus \n",
    " * Index 1 menrepresentasikan kalimat kedua dari corpus\n",
    " * Index 2 menrepresentasikan kalimat ketiga dari corpus\n",
    " * dst\n",
    " \n",
    "* Angka-Angka di kiri (kolom kedua),menrepresentasikan indeks dari features name yang dihasilkan dari bag of words kita\n",
    "\n",
    "* Angka-Angka di kanan,mempresentasikan bobot dari TF-IDF hasil kalkulasi yang dilakukan TfidfVectorizer"
   ]
  },
  {
   "cell_type": "code",
   "execution_count": null,
   "metadata": {},
   "outputs": [],
   "source": [
    "vectorizer.get_feature_names()"
   ]
  },
  {
   "cell_type": "code",
   "execution_count": null,
   "metadata": {},
   "outputs": [],
   "source": [
    "response.todense() #transform ke bentuk array"
   ]
  },
  {
   "cell_type": "markdown",
   "metadata": {},
   "source": [
    "Dari hasil tersebut,terbentuk array dua dimensi,dimana setiap rownya akan menrepresentasikan setiap kalimat atau setiap dokumen pada corpus kita"
   ]
  },
  {
   "cell_type": "code",
   "execution_count": null,
   "metadata": {},
   "outputs": [],
   "source": [
    "import pandas as pd \n",
    "\n",
    "df = pd.DataFrame(response.todense().T, # T= Melakukan proses Transpose\n",
    "                 index=vectorizer.get_feature_names(),\n",
    "                 columns=[f'D{i+1}' for i in range(len(corpus))])\n",
    "\n",
    "df"
   ]
  },
  {
   "cell_type": "markdown",
   "metadata": {},
   "source": [
    "Dalam pandas dataframe kita akan tampilkan kalimatnya dalam bentuk kolom,sedangkan barisnya akan digunakan untuk menrepresentasikan setiap tokennya\n",
    "\n",
    "*Semakin tinggi bobot suatu kata terhadap suatu dokumen mengindikasikan bahwa kata tersebut semakin layak digunakan sebagai keyword atau kata pencarian terhadap dokumen tersebut*"
   ]
  }
 ],
 "metadata": {
  "kernelspec": {
   "display_name": "Python 3",
   "language": "python",
   "name": "python3"
  },
  "language_info": {
   "codemirror_mode": {
    "name": "ipython",
    "version": 3
   },
   "file_extension": ".py",
   "mimetype": "text/x-python",
   "name": "python",
   "nbconvert_exporter": "python",
   "pygments_lexer": "ipython3",
   "version": "3.8.5"
  }
 },
 "nbformat": 4,
 "nbformat_minor": 4
}
