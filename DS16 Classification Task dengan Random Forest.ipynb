{
 "cells": [
  {
   "cell_type": "markdown",
   "metadata": {},
   "source": [
    "Referensi: https://en.wikipedia.org/wiki/Random_forest"
   ]
  },
  {
   "cell_type": "markdown",
   "metadata": {},
   "source": [
    "## General ML Model Training"
   ]
  },
  {
   "cell_type": "markdown",
   "metadata": {},
   "source": [
    "Proses training selalu diawali dengan \"Training set\",di dalamnya terdiri dari sekumpulan training features \"X_train\" dan juga sekumpulan target label \"Y_train\".training set digunakan untuk melakukan training model machine learning dan model yang sudah di training akan dikenal dengan istilah \"trained model\".trained model ini akan kita gunakan untuk melakukan prediksi terhadap sekumpulan nilai features yang baru \"X_new\" dan prediksi yang dihasilkan oleh trained model dikenal dengan istilah \"y_pred\""
   ]
  },
  {
   "cell_type": "markdown",
   "metadata": {},
   "source": [
    "![title](img12.png)"
   ]
  },
  {
   "cell_type": "markdown",
   "metadata": {},
   "source": [
    "## Ensemble Learning: heterogeneous & homogeneous"
   ]
  },
  {
   "cell_type": "markdown",
   "metadata": {},
   "source": [
    "Referensi: https://en.wikipedia.org/wiki/Ensemble_learning"
   ]
  },
  {
   "cell_type": "markdown",
   "metadata": {},
   "source": [
    "Ensemble Learning -> untuk menggabungkan beberapa model untuk melakukan prediksi\n",
    "\n",
    "Ensemble learning juga diawali dari suatu training set.hanya saja kali ini training set yang tersedia akan kita gunakan untuk mentraining beberapa model,terdapat tiga model machine learning yang akan kita training yaitu KNN,SVM,dan Decision tree.\n",
    "\n",
    "Proses training ini menghasilkan tiga model :  Trained model 1,Trained model 2,Trained model 3.setiap trained model ini akan kita gunakan untuk melakukan prediksi terhadap sekumpulan nilai features yang baru.prediksi yang dihasilkan setiap trained model direpresentasikan sebagai y_pred 1,y_pred 2,y_pred 3.karena terdapat lebih dari satu prediksi,maka perlu disatukan dengan suatu mekanisme yang dikenal dengan istilah \"Majority Voting\".pada kasus regression task majority voting dilakukan dengan menggunakan nilai mean atau nilai rata-rata sedangkan pada kasus classification task majority voting dicapai dengan menerapkan mode atau kemunculan terbanyak-banyak.ilustrasi hasil prediksi final direpresentasikan sebagai \"y_pred final\"\n",
    "\n",
    "Karena disini kita memadukan sejumlah model machine learning yang berbeda maka seringkali dikenal juga sebagai \"heterogeneous ensemble learning\" sedangkan untuk kasus dimana kita memadukan model machine learning yang sejenis akan dikenal dengan istilah \"homogeneous ensemble learning\""
   ]
  },
  {
   "cell_type": "markdown",
   "metadata": {},
   "source": [
    "![title](img13.png)"
   ]
  },
  {
   "cell_type": "markdown",
   "metadata": {},
   "source": [
    "## Bagging: Bootstrap Aggregating"
   ]
  },
  {
   "cell_type": "markdown",
   "metadata": {},
   "source": [
    "Referensi: https://en.wikipedia.org/wiki/Bootstrap_aggregating"
   ]
  },
  {
   "cell_type": "markdown",
   "metadata": {},
   "source": [
    "Kita akan mempelajari homogeneous ensemble learning dimana kita akan memadukan sejumlah model machine learning yang sejenis.\n",
    "\n",
    "Proses ini juga diawali dengan training set,hanya saja disini karena kita menerapkan sejumlah model yang sejenis, maka melakukan training terhadap setiap model menggunakan training set yang sama bisa dikatakan sia-sia.karena akan menghasilkan trained model yang sama persis.disini kita akan berkenalan dengan suatu teknik yang dikenal dengan istilah bootstrap aggregating (bagging)\n",
    "\n",
    "Mekanisme bagging pada dasarnya menerapkan proses random sampling with replacement terhadap training set yang kita miliki dan akan menghasilkan beberapa training set baru sejumlah model yang akan kita training.Training set baru yang dihasilkan oleh proses bagging ini dikenal dengan istilah \"bag\".karena kita akan mentraining tiga buah model,maka kita juga perlu persiapkan tiga buah bag :bag 1,bag 2,bag 3.ketiga bag ini berisi sekumpulan sample data yang berbeda satu dengan lainnya.karena ketiga bag ini dihasilkan dari proses random sampling with replacement yang diambil dari training set.\n",
    "\n",
    "Setiap bag ini kita gunakan untuk mentraining tiga model machine learning yang sejenis.setelah melalui proses training.maka akan menghasilkan trained model (tiga trained model).setiap trained model ini berikutnya akan kita gunakan untuk melakukan prediksi terhadap sekumpulan nilai features yang baru.hasil prediksi yang dihasilkan setiap model selanjutnya akan kita satukan melalui proses majority voting untuk dihasilkan prediksi final.ketiga buah hasil prediksi tersebut kita satukan untuk menghasilkan hasil prediksi final"
   ]
  },
  {
   "cell_type": "markdown",
   "metadata": {},
   "source": [
    "![title](img14.png)"
   ]
  },
  {
   "cell_type": "markdown",
   "metadata": {},
   "source": [
    "## Random Forest"
   ]
  },
  {
   "cell_type": "markdown",
   "metadata": {},
   "source": [
    "Referensi: https://en.wikipedia.org/wiki/Random_forest"
   ]
  },
  {
   "cell_type": "markdown",
   "metadata": {},
   "source": [
    "Random forest merupakan implementasi dari homogeneous ensemble learning yang menerapkan decision tree,terbentuk dari sekumpulan dari decision tree.selain bagging,random forest juga menerapkan fitur randomness,dimana untuk setiap bag yang dihasilkan akan mengadopsi sejumlah features yang dipilih secara acak dari training set sumbernya atau dengan kata lain setiap model decision tree akan di training dengan bag yang berisi dataset yang beragam,tidak hanya dalam hal baris data aja,melainkan juga beragam dalam hal feature yang dihasilkan.karena tiap decision tree di training dengan menggunakan dataset yang berbeda,maka dihasilkanlah sejumlah trained model yang beragam.walau kesemua trained ini sebenarnya menggunakan model machine learning yang sejenis yaitu decision tree.setiap trained model ini selanjutnya akan kita gunakan untuk melakukan prediksi terhadap sekumpulan nilai features yang baru.prediksi yang dihasilkan oleh setiap trained model akan disatukan melalui proses majority voting untuk menghasilkan nilai prediksi final.\n",
    "\n",
    "Strategi semacam ini menjadikan random forest memiliki performa yang jauh lebih superior bila dibandingkan model decision tree yang biasa.karena setiap tree yang ada di trained menggunakan subset dari keseluruhan training set yang tersedia."
   ]
  },
  {
   "cell_type": "markdown",
   "metadata": {},
   "source": [
    "![title](img15.png)"
   ]
  },
  {
   "cell_type": "markdown",
   "metadata": {},
   "source": [
    "## Dataset"
   ]
  },
  {
   "cell_type": "markdown",
   "metadata": {},
   "source": [
    "Referensi: https://en.wikipedia.org/wiki/Iris_flower_data_set"
   ]
  },
  {
   "cell_type": "code",
   "execution_count": 1,
   "metadata": {},
   "outputs": [
    {
     "name": "stdout",
     "output_type": "stream",
     "text": [
      "Dimensi Feature: (150, 4)\n",
      "Class: {0, 1, 2}\n"
     ]
    }
   ],
   "source": [
    "from sklearn.datasets import load_iris #import module\n",
    "\n",
    "X, y = load_iris(return_X_y=True)\n",
    "\n",
    "print(f'Dimensi Feature: {X.shape}')\n",
    "print(f'Class: {set(y)}')"
   ]
  },
  {
   "cell_type": "markdown",
   "metadata": {},
   "source": [
    "* Hasil dimensi features adalah (150,4) yang artinya terdapat 150 baris dan 4 kolom\n",
    "* Hasil class adalah {0,1,2} yang artinya terdapat tiga kelas\n",
    "\n",
    "Training dan testing dataset tersebut dengan cara berikut"
   ]
  },
  {
   "cell_type": "code",
   "execution_count": null,
   "metadata": {},
   "outputs": [],
   "source": [
    "from sklearn.model_selection import train_test_split #import module\n",
    "\n",
    "X_train, X_test, y_train, y_test = train_test_split(X,\n",
    "                                                    y,\n",
    "                                                    test_size=0.3, #testing set akan menempati 30% dari total keseluruhan dataset\n",
    "                                                    random_state=0) #menjamin agar eksperimen kita ini bisa kita replicate dan menghasilkan nilai yang konsisten"
   ]
  },
  {
   "cell_type": "markdown",
   "metadata": {},
   "source": [
    "## Classification dengan RandomForestClassifier"
   ]
  },
  {
   "cell_type": "code",
   "execution_count": null,
   "metadata": {},
   "outputs": [],
   "source": [
    "from sklearn.ensemble import RandomForestClassifier #import module\n",
    "\n",
    "model = RandomForestClassifier(n_estimators=100, #berapa banyak decision tree yang ingin kita training\n",
    "                               random_state=0)\n",
    "\n",
    "model.fit(X_train, y_train)"
   ]
  },
  {
   "cell_type": "markdown",
   "metadata": {},
   "source": [
    "## Evaluasi Model"
   ]
  },
  {
   "cell_type": "code",
   "execution_count": null,
   "metadata": {},
   "outputs": [],
   "source": [
    "from sklearn.metrics import classification_report #import module\n",
    "\n",
    "y_pred = model.predict(X_test)\n",
    "\n",
    "print(classification_report(y_test, y_pred))"
   ]
  }
 ],
 "metadata": {
  "kernelspec": {
   "display_name": "Python 3",
   "language": "python",
   "name": "python3"
  },
  "language_info": {
   "codemirror_mode": {
    "name": "ipython",
    "version": 3
   },
   "file_extension": ".py",
   "mimetype": "text/x-python",
   "name": "python",
   "nbconvert_exporter": "python",
   "pygments_lexer": "ipython3",
   "version": "3.8.5"
  }
 },
 "nbformat": 4,
 "nbformat_minor": 4
}
